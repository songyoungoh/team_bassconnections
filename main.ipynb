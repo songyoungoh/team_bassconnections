{
  "cells": [
    {
      "cell_type": "markdown",
      "metadata": {},
      "source": [
        "# EuroSAT Sprint"
      ]
    },
    {
      "cell_type": "code",
      "execution_count": null,
      "metadata": {
        "colab": {
          "base_uri": "https://localhost:8080/"
        },
        "id": "0GNMMpyS1s68",
        "outputId": "cc18dc7d-8bef-45d4-d5e9-4ae496a2efde"
      },
      "outputs": [
        {
          "name": "stdout",
          "output_type": "stream",
          "text": [
            "Mounted at /content/drive\n"
          ]
        }
      ],
      "source": [
        "from google.colab import drive\n",
        "drive.mount('/content/drive')"
      ]
    },
    {
      "cell_type": "markdown",
      "metadata": {},
      "source": [
        "### Import libraries"
      ]
    },
    {
      "cell_type": "code",
      "execution_count": null,
      "metadata": {},
      "outputs": [],
      "source": [
        "import os\n",
        "import numpy as np\n",
        "import matplotlib.pyplot as plt\n",
        "import torch\n",
        "import torch.nn as nn\n",
        "import torch.optim as optim\n",
        "import torchvision.transforms as transforms\n",
        "from torchvision import transforms, models, datasets\n",
        "from sklearn.metrics import confusion_matrix\n",
        "import seaborn as sns\n",
        "import random\n",
        "from torch.utils.data import random_split\n",
        "from collections import Counter\n",
        "import pandas as pd"
      ]
    },
    {
      "cell_type": "markdown",
      "metadata": {
        "id": "nYMYPribTQlc"
      },
      "source": [
        "## 1. Data loading"
      ]
    },
    {
      "cell_type": "code",
      "execution_count": null,
      "metadata": {
        "id": "PbSVzboD-zah"
      },
      "outputs": [],
      "source": [
        "!unzip /content/drive/MyDrive/Train_Test_Splits.zip"
      ]
    },
    {
      "cell_type": "code",
      "execution_count": null,
      "metadata": {
        "colab": {
          "base_uri": "https://localhost:8080/"
        },
        "id": "o3M8G_Av_tRu",
        "outputId": "738578ec-d57d-4f01-effb-aa8ecf535859"
      },
      "outputs": [
        {
          "name": "stderr",
          "output_type": "stream",
          "text": [
            "/usr/local/lib/python3.10/dist-packages/torch/utils/data/dataloader.py:560: UserWarning: This DataLoader will create 4 worker processes in total. Our suggested max number of worker in current system is 2, which is smaller than what this DataLoader is going to create. Please be aware that excessive worker creation might get DataLoader running slow or even freeze, lower the worker number to avoid potential slowness/freeze if necessary.\n",
            "  warnings.warn(_create_warning_msg(\n"
          ]
        }
      ],
      "source": [
        "# Define data transformations for training and testing\n",
        "data_transforms = {\n",
        "    'train': transforms.Compose([\n",
        "        transforms.RandomResizedCrop(224),\n",
        "        transforms.RandomHorizontalFlip(),\n",
        "        transforms.ToTensor(),\n",
        "        # transforms.Normalize([0.485, 0.456, 0.406], [0.229, 0.224, 0.225])\n",
        "    ]),\n",
        "    'test': transforms.Compose([\n",
        "        transforms.Resize(256),\n",
        "        transforms.CenterCrop(224),\n",
        "        transforms.ToTensor(),\n",
        "        # transforms.Normalize([0.485, 0.456, 0.406], [0.229, 0.224, 0.225])\n",
        "    ]),\n",
        "}\n",
        "\n",
        "# Load datasets\n",
        "data_dir = '/content/drive/MyDrive/Train_Test_Splits'\n",
        "image_datasets = {x: datasets.ImageFolder(os.path.join(data_dir, x), data_transforms[x]) for x in ['train', 'test']}\n",
        "dataloaders = {x: torch.utils.data.DataLoader(image_datasets[x], batch_size=64, shuffle=True, num_workers=4) for x in ['train', 'test']}\n",
        "dataset_sizes = {x: len(image_datasets[x]) for x in ['train', 'test']}\n",
        "device = torch.device(\"cuda:0\" if torch.cuda.is_available() else \"cpu\")\n"
      ]
    },
    {
      "cell_type": "code",
      "execution_count": null,
      "metadata": {
        "colab": {
          "base_uri": "https://localhost:8080/"
        },
        "id": "Pw8AAVvRdkhz",
        "outputId": "d977fa9c-ec4b-4d8d-c546-cd13d7051d4a"
      },
      "outputs": [
        {
          "data": {
            "text/plain": [
              "{'train': 21600, 'test': 5400}"
            ]
          },
          "execution_count": 4,
          "metadata": {},
          "output_type": "execute_result"
        }
      ],
      "source": [
        "dataset_sizes"
      ]
    },
    {
      "cell_type": "code",
      "execution_count": null,
      "metadata": {},
      "outputs": [],
      "source": [
        "# Split the dataset\n",
        "train_dataset = image_datasets['train']\n",
        "train_size = int(0.8 * len(train_dataset))\n",
        "valid_size = len(train_dataset) - train_size\n",
        "train_subset, valid_subset = random_split(train_dataset, [train_size, valid_size])\n",
        "\n",
        "dataloaders['train'] = torch.utils.data.DataLoader(train_subset, batch_size=32, shuffle=True, num_workers=4)\n",
        "dataloaders['valid'] = torch.utils.data.DataLoader(valid_subset, batch_size=32, shuffle=False, num_workers=4)\n",
        "dataset_sizes['train'] = len(train_subset)\n",
        "dataset_sizes['valid'] = len(valid_subset)"
      ]
    },
    {
      "cell_type": "markdown",
      "metadata": {},
      "source": [
        "## 2. Model training"
      ]
    },
    {
      "cell_type": "code",
      "execution_count": null,
      "metadata": {
        "colab": {
          "base_uri": "https://localhost:8080/"
        },
        "id": "7y88HjHd6PZM",
        "outputId": "1eec8cae-572f-4414-c958-fa7253cb44f0"
      },
      "outputs": [
        {
          "name": "stderr",
          "output_type": "stream",
          "text": [
            "/usr/local/lib/python3.10/dist-packages/torchvision/models/_utils.py:208: UserWarning: The parameter 'pretrained' is deprecated since 0.13 and may be removed in the future, please use 'weights' instead.\n",
            "  warnings.warn(\n",
            "/usr/local/lib/python3.10/dist-packages/torchvision/models/_utils.py:223: UserWarning: Arguments other than a weight enum or `None` for 'weights' are deprecated since 0.13 and may be removed in the future. The current behavior is equivalent to passing `weights=ResNet50_Weights.IMAGENET1K_V1`. You can also use `weights=ResNet50_Weights.DEFAULT` to get the most up-to-date weights.\n",
            "  warnings.warn(msg)\n",
            "Downloading: \"https://download.pytorch.org/models/resnet50-0676ba61.pth\" to /root/.cache/torch/hub/checkpoints/resnet50-0676ba61.pth\n",
            "100%|██████████| 97.8M/97.8M [00:00<00:00, 324MB/s]\n"
          ]
        }
      ],
      "source": [
        "model = models.resnet50(pretrained=True)\n",
        "num_ftrs = model.fc.in_features\n",
        "model.fc = nn.Linear(num_ftrs, len(image_datasets['train'].classes))\n",
        "model = model.to(device)\n",
        "\n",
        "criterion = nn.CrossEntropyLoss()\n",
        "optimizer = optim.Adam(model.parameters(), lr=0.00001)"
      ]
    },
    {
      "cell_type": "code",
      "execution_count": null,
      "metadata": {
        "colab": {
          "base_uri": "https://localhost:8080/",
          "height": 1000
        },
        "id": "6hzgJuv1-aep",
        "outputId": "e5e8b884-6157-4f94-c29e-b1ff7ca17b02"
      },
      "outputs": [
        {
          "name": "stdout",
          "output_type": "stream",
          "text": [
            "Epoch 0/14\n",
            "train_loss: 0.1973, train_acc: 0.9380\n",
            "valid_loss: 0.1471, valid_acc: 0.9542\n",
            "Epoch 1/14\n",
            "train_loss: 0.1823, train_acc: 0.9427\n",
            "valid_loss: 0.1265, valid_acc: 0.9630\n",
            "Epoch 2/14\n",
            "train_loss: 0.1719, train_acc: 0.9468\n",
            "valid_loss: 0.1307, valid_acc: 0.9609\n",
            "Epoch 3/14\n",
            "train_loss: 0.1628, train_acc: 0.9460\n",
            "valid_loss: 0.1330, valid_acc: 0.9597\n",
            "Epoch 4/14\n",
            "train_loss: 0.1559, train_acc: 0.9519\n",
            "valid_loss: 0.1245, valid_acc: 0.9595\n",
            "Epoch 5/14\n",
            "train_loss: 0.1436, train_acc: 0.9543\n",
            "valid_loss: 0.1312, valid_acc: 0.9611\n",
            "Epoch 6/14\n",
            "train_loss: 0.1425, train_acc: 0.9553\n",
            "valid_loss: 0.1105, valid_acc: 0.9637\n",
            "Epoch 7/14\n",
            "train_loss: 0.1362, train_acc: 0.9569\n",
            "valid_loss: 0.1366, valid_acc: 0.9581\n",
            "Epoch 8/14\n",
            "train_loss: 0.1183, train_acc: 0.9628\n",
            "valid_loss: 0.1245, valid_acc: 0.9588\n",
            "Epoch 9/14\n",
            "train_loss: 0.1217, train_acc: 0.9622\n",
            "valid_loss: 0.1217, valid_acc: 0.9630\n",
            "Epoch 10/14\n",
            "train_loss: 0.1236, train_acc: 0.9608\n",
            "valid_loss: 0.1057, valid_acc: 0.9655\n",
            "Epoch 11/14\n",
            "train_loss: 0.1098, train_acc: 0.9660\n",
            "valid_loss: 0.1244, valid_acc: 0.9613\n",
            "Epoch 12/14\n",
            "train_loss: 0.1096, train_acc: 0.9671\n",
            "valid_loss: 0.1167, valid_acc: 0.9655\n",
            "Epoch 13/14\n",
            "train_loss: 0.1081, train_acc: 0.9664\n",
            "valid_loss: 0.1218, valid_acc: 0.9611\n",
            "Epoch 14/14\n",
            "train_loss: 0.1047, train_acc: 0.9666\n",
            "valid_loss: 0.1128, valid_acc: 0.9641\n",
            "Training and validation complete!\n"
          ]
        },
        {
          "data": {
            "image/png": "[encoded data removed]",
            "text/plain": [
              "<Figure size 1200x600 with 1 Axes>"
            ]
          },
          "metadata": {},
          "output_type": "display_data"
        }
      ],
      "source": [
        "# Record the loss\n",
        "train_losses = []\n",
        "valid_losses = []\n",
        "\n",
        "# Training and validation loop for each epoch, there will be a training and validation\n",
        "num_epochs = 15\n",
        "for epoch in range(num_epochs):\n",
        "    print(f\"Epoch {epoch}/{num_epochs-1}\")\n",
        "    metrics = {\n",
        "        'train': {'loss': 0.0, 'correct': 0},\n",
        "        'valid': {'loss': 0.0, 'correct': 0}\n",
        "    }\n",
        "\n",
        "    # Each epoch has a training and validation phase\n",
        "    for phase in ['train', 'valid']:\n",
        "        if phase == 'train':\n",
        "            model.train()  # training mode\n",
        "        else:\n",
        "            model.eval()   # evaluate mode\n",
        "\n",
        "        # Iterate over data\n",
        "        for inputs, labels in dataloaders[phase]:\n",
        "            inputs, labels = inputs.to(device), labels.to(device)\n",
        "\n",
        "            # Zero the parameter gradients\n",
        "            optimizer.zero_grad()\n",
        "\n",
        "            # Forward\n",
        "            with torch.set_grad_enabled(phase == 'train'):\n",
        "                outputs = model(inputs)\n",
        "                _, preds = torch.max(outputs, 1)\n",
        "                loss = criterion(outputs, labels)\n",
        "\n",
        "                # Backward\n",
        "                if phase == 'train':\n",
        "                    optimizer.zero_grad()\n",
        "                    loss.backward()\n",
        "                    optimizer.step()\n",
        "\n",
        "            # Update metrics\n",
        "            metrics[phase]['loss'] += loss.item() * inputs.size(0)\n",
        "            metrics[phase]['correct'] += torch.sum(preds == labels.data)\n",
        "\n",
        "        # Calculate epoch metrics\n",
        "        epoch_loss = metrics[phase]['loss'] / dataset_sizes[phase]\n",
        "        epoch_acc = metrics[phase]['correct'].double() / dataset_sizes[phase]\n",
        "        print(f\"{phase}_loss: {epoch_loss:.4f}, {phase}_acc: {epoch_acc:.4f}\")\n",
        "\n",
        "    train_losses.append(metrics['train']['loss'] / dataset_sizes['train'])\n",
        "    valid_losses.append(metrics['valid']['loss'] / dataset_sizes['valid'])\n",
        "\n",
        "\n",
        "# Plotting\n",
        "plt.figure(figsize=(12, 6))\n",
        "plt.plot(train_losses, label='Training Loss')\n",
        "plt.plot(valid_losses, label='Validation Loss')\n",
        "plt.xlabel('Epoch')\n",
        "plt.ylabel('Loss')\n",
        "plt.title('Epoch vs. Train/Validation Loss')\n",
        "plt.legend()\n",
        "plt.grid(True)\n",
        "plt.show()"
      ]
    },
    {
      "cell_type": "markdown",
      "metadata": {},
      "source": [
        "## 3. Model evaluation"
      ]
    },
    {
      "cell_type": "code",
      "execution_count": null,
      "metadata": {},
      "outputs": [],
      "source": [
        "model.eval()\n",
        "true_labels = []\n",
        "predictions = []\n",
        "\n",
        "# Store the indices of the correct/incorrect predictions and their probabilities\n",
        "incorrect_indices = []\n",
        "incorrect_probs = []\n",
        "correct_indices = []\n",
        "correct_probs = []\n",
        "total_probs = []\n",
        "\n",
        "for idx, (inputs, labels) in enumerate(dataloaders['valid']):\n",
        "    inputs = inputs.to(device)\n",
        "    labels = labels.to(device)\n",
        "\n",
        "    with torch.no_grad():\n",
        "        outputs = model(inputs)\n",
        "        _, preds = torch.max(outputs, 1)\n",
        "\n",
        "    true_labels.extend(labels.cpu().numpy())\n",
        "    predictions.extend(preds.cpu().numpy())\n",
        "\n",
        "    # Store the incorrectly and correctly classified images and their probabilities\n",
        "    for i, (pred, label) in enumerate(zip(preds, labels)):\n",
        "        total_probs.append(outputs[i].cpu().numpy())\n",
        "        if pred != label:\n",
        "            incorrect_indices.append(idx * dataloaders['valid'].batch_size + i)\n",
        "            incorrect_probs.append(outputs[i].cpu().numpy())\n",
        "        else:\n",
        "            correct_indices.append(idx * dataloaders['valid'].batch_size + i)\n",
        "            correct_probs.append(outputs[i].cpu().numpy())\n",
        "\n",
        "# Get a test accuracy\n",
        "test_acc = np.sum(np.array(true_labels) == np.array(predictions)) / len(true_labels)\n",
        "print('')\n",
        "print(f'Test Accuracy: {test_acc * 100:.2f}%')\n",
        "print(f'Number of Correct Predictions: {np.sum(np.array(true_labels) == np.array(predictions))} / 5400')\n",
        "print(f'Number of Incorrect Predictions: {len(true_labels) - np.sum(np.array(true_labels) == np.array(predictions))} / 5400')\n",
        "\n",
        "# Save strings of class labels\n",
        "class_labels = image_datasets['valid'].classes\n",
        "\n",
        "# Map integer values with string values\n",
        "true_labels_str = [class_labels[i] for i in true_labels]\n",
        "predictions_str = [class_labels[i] for i in predictions]"
      ]
    },
    {
      "cell_type": "markdown",
      "metadata": {},
      "source": [
        "### Analyze correct predictions"
      ]
    },
    {
      "cell_type": "code",
      "execution_count": null,
      "metadata": {},
      "outputs": [],
      "source": [
        "# Randomly select 15 correct predictions to visualize\n",
        "random_correct_indices = random.sample(correct_indices, 15)\n",
        "\n",
        "for i, idx in enumerate(random_correct_indices):\n",
        "    input_image, true_label = dataloaders['valid'].dataset[idx]\n",
        "    prob_vector = total_probs[idx]\n",
        "    prob_vector_normalized = np.exp(prob_vector) / np.exp(prob_vector).sum()\n",
        "    plt.figure(figsize=(8, 4))\n",
        "    \n",
        "    # Display the image with rescaled pixel values\n",
        "    plt.subplot(1, 2, 1)\n",
        "    input_image = input_image.permute(1, 2, 0).numpy()\n",
        "    input_image = (input_image - input_image.min()) / (input_image.max() - input_image.min())\n",
        "    plt.imshow(input_image)\n",
        "    plt.xticks([])\n",
        "    plt.yticks([])\n",
        "    plt.xlabel('Image', fontsize=8)\n",
        "    plt.title(f'True Label: {true_labels_str[idx]}\\nPredicted Label: {predictions_str[idx]}', fontsize=8)\n",
        "    plt.grid(False)\n",
        "    \n",
        "    # Display the class probabilities with annotations\n",
        "    plt.subplot(1, 2, 2)\n",
        "    plt.bar(class_labels, prob_vector_normalized)\n",
        "    plt.xticks(rotation=60, fontsize=7)\n",
        "    plt.yticks(fontsize=8)\n",
        "    plt.ylabel('Probability', fontsize=6)\n",
        "    plt.title('Class Probabilities', fontsize=8)\n",
        "    \n",
        "    for j, prob in enumerate(prob_vector_normalized):\n",
        "        plt.text(j, prob, f'{prob:.2f}', ha='center', va='bottom', fontsize=6, color='black')\n",
        "    \n",
        "    plt.tight_layout(pad=0.6)\n",
        "    plt.show()"
      ]
    },
    {
      "cell_type": "markdown",
      "metadata": {},
      "source": [
        "### Analyze incorrect predictions"
      ]
    },
    {
      "cell_type": "code",
      "execution_count": null,
      "metadata": {},
      "outputs": [],
      "source": [
        "# Visualize the incorrect predictions and their probabilities\n",
        "for i, idx in enumerate(incorrect_indices):\n",
        "    prob_vector = incorrect_probs[i]\n",
        "    prob_vector_normalized = np.exp(prob_vector) / np.exp(prob_vector).sum()\n",
        "    plt.figure(figsize=(8, 4))\n",
        "    \n",
        "    # Display the image with rescaled pixel values\n",
        "    plt.subplot(1, 2, 1)\n",
        "    input_image = input_image.permute(1, 2, 0).numpy()\n",
        "    input_image = (input_image - input_image.min()) / (input_image.max() - input_image.min())\n",
        "    plt.imshow(input_image)\n",
        "    plt.xticks([])\n",
        "    plt.yticks([])\n",
        "    plt.xlabel('Image', fontsize=8)\n",
        "    plt.title(f'True Label: {true_labels_str[idx]}\\nPredicted Label: {predictions_str[idx]}', fontsize=8)\n",
        "    plt.grid(False)\n",
        "    \n",
        "    # Display the class probabilities with annotations\n",
        "    plt.subplot(1, 2, 2)\n",
        "    plt.bar(class_labels, prob_vector_normalized)\n",
        "    plt.xticks(rotation=60, fontsize=7)\n",
        "    plt.yticks(fontsize=8)\n",
        "    plt.ylabel('Probability', fontsize=6)\n",
        "    plt.title('Class Probabilities', fontsize=8)\n",
        "    \n",
        "    for j, prob in enumerate(prob_vector_normalized):\n",
        "        plt.text(j, prob, f'{prob:.2f}', ha='center', va='bottom', fontsize=6, color='black')\n",
        "    \n",
        "    plt.tight_layout(pad=0.6)\n",
        "    plt.show()"
      ]
    },
    {
      "cell_type": "code",
      "execution_count": null,
      "metadata": {},
      "outputs": [],
      "source": [
        "# Count the combinations of true and predicted labels for incorrect predictions\n",
        "combination_counts = Counter(zip(true_labels_str, predictions_str))\n",
        "\n",
        "# Create a dataFrame to organize the metrics\n",
        "metrics_table = pd.DataFrame.from_dict(combination_counts, orient='index', columns=['Count'])\n",
        "metrics_table.index = pd.MultiIndex.from_tuples(metrics_table.index, names=['True Label', 'Predicted Label'])\n",
        "\n",
        "# Sort the table by the count\n",
        "metrics_table = metrics_table.sort_values(by=['Count'], ascending=False)\n",
        "\n",
        "print(metrics_table)"
      ]
    },
    {
      "cell_type": "code",
      "execution_count": null,
      "metadata": {},
      "outputs": [],
      "source": [
        "#Print index of incorrect analysis, true label, predicted label\n",
        "#make an array, at index = true_labels[idx] ++ the integer value\n",
        "integer_array = [0] * 10\n",
        "\n",
        "c_lables = image_datasets['train'].classes\n",
        "for idx in range(len(true_labels)):\n",
        "    if true_labels[idx] != predictions[idx]:\n",
        "      print(f\"At index {idx}: True Label - {c_lables[true_labels[idx]]}, Predicted Label - {c_lables[predictions[idx]]}\")\n",
        "      integer_array[true_labels[idx]]+=1\n",
        "\n",
        "for idx in range(len(c_lables)):\n",
        "  print(f\"{c_lables[idx]}: {integer_array[idx]}\")\n"
      ]
    },
    {
      "cell_type": "markdown",
      "metadata": {},
      "source": [
        "### Make a confusion matrix"
      ]
    },
    {
      "cell_type": "code",
      "execution_count": null,
      "metadata": {},
      "outputs": [],
      "source": [
        "# Calculate the confusion matrix\n",
        "conf_matrix = confusion_matrix(true_labels_str, predictions_str)\n",
        "conf_matrix = conf_matrix.astype('float') / conf_matrix.sum(axis=1)[:, np.newaxis]\n",
        "\n",
        "# Create a heatmap of the confusion matrix\n",
        "plt.figure(figsize=(10, 8))\n",
        "sns.set(font_scale=0.7)\n",
        "ax = sns.heatmap(conf_matrix, annot=True, fmt='.3f', cmap='Blues', \n",
        "                 xticklabels=class_labels, \n",
        "                 yticklabels=class_labels)\n",
        "ax.set_xticklabels(ax.get_xticklabels(), rotation=45)\n",
        "plt.xlabel('Predicted Label')\n",
        "plt.ylabel('True Label')\n",
        "plt.title('Confusion Matrix of ResNet-50 on the EuroSAT dataset')\n",
        "\n",
        "# Add a black border around the confusion matrix\n",
        "for _, spine in ax.spines.items():\n",
        "    spine.set_visible(True)\n",
        "    spine.set_color('black')\n",
        "\n",
        "plt.show()"
      ]
    }
  ],
  "metadata": {
    "accelerator": "GPU",
    "colab": {
      "gpuType": "V100",
      "provenance": [],
      "toc_visible": true
    },
    "kernelspec": {
      "display_name": "Python 3.9.12 ('base')",
      "language": "python",
      "name": "python3"
    },
    "language_info": {
      "name": "python",
      "version": "3.9.12"
    },
    "vscode": {
      "interpreter": {
        "hash": "a92526385d613339fdfc3220bd081595a0042773833489b7647304f7dd79b12e"
      }
    }
  },
  "nbformat": 4,
  "nbformat_minor": 0
}
